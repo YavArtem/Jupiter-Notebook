{
  "nbformat": 4,
  "nbformat_minor": 0,
  "metadata": {
    "colab": {
      "provenance": []
    },
    "kernelspec": {
      "name": "python3",
      "display_name": "Python 3"
    },
    "language_info": {
      "name": "python"
    }
  },
  "cells": [
    {
      "cell_type": "markdown",
      "source": [
        "#Домашнє завдання до теми \"Comprehensions в Python\""
      ],
      "metadata": {
        "id": "jGTe7raw9lB_"
      }
    },
    {
      "cell_type": "markdown",
      "source": [
        "Для наступних завдань у нас є наступний список:"
      ],
      "metadata": {
        "id": "grIbI4ZZ7miJ"
      }
    },
    {
      "cell_type": "code",
      "source": [
        "numbers = [42, 51, 29, 2, 13, 44, 80, 66, 16]"
      ],
      "metadata": {
        "id": "nFOAtgsP7nnc"
      },
      "execution_count": null,
      "outputs": []
    },
    {
      "cell_type": "markdown",
      "source": [
        "1. Використовуючи цикл `for` cтворіть новий список `numbers_squared`, де кожен елемент списку `numbers` є домноженим на 2.\n",
        "\n",
        "Нагадаю, що фактично коли ми з допомогою циклу отримуємо новий список, то ми спочатку створюємо пустий список, а потім додаємо в нього новий елемент на кожній ітерації.\n",
        "\n",
        "Новий елемент буде в даному випадку результатом домножання чергового елемента вихідного списку `numbers` на 2."
      ],
      "metadata": {
        "id": "_sRe19Ym6zDc"
      }
    },
    {
      "cell_type": "code",
      "execution_count": null,
      "metadata": {
        "id": "EhGdKWo06nGS"
      },
      "outputs": [],
      "source": [
        "numbers_squared = []"
      ]
    },
    {
      "cell_type": "code",
      "source": [
        "for i in numbers:\n",
        " numbers_squared.append(i * 2)"
      ],
      "metadata": {
        "id": "PUEmyqLw4mWA"
      },
      "execution_count": null,
      "outputs": []
    },
    {
      "cell_type": "code",
      "source": [
        "numbers_squared"
      ],
      "metadata": {
        "colab": {
          "base_uri": "https://localhost:8080/"
        },
        "id": "goJiIvIE2ojb",
        "outputId": "dad5bcdc-916b-495a-efa0-8056e12bb784"
      },
      "execution_count": null,
      "outputs": [
        {
          "output_type": "execute_result",
          "data": {
            "text/plain": [
              "[84, 102, 58, 4, 26, 88, 160, 132, 32]"
            ]
          },
          "metadata": {},
          "execution_count": 7
        }
      ]
    },
    {
      "cell_type": "markdown",
      "source": [
        "Очікуваний результат: `[84, 102, 58, 4, 26, 88, 160, 132, 32]`"
      ],
      "metadata": {
        "id": "XKpWtN8N64np"
      }
    },
    {
      "cell_type": "markdown",
      "source": [
        "2. Використовуючи `list comprehension` cтворіть новий список `numbers_squared_lh`, де кожен елемент списку `numbers` є домноженим 2.\n",
        "Так, операція, яку ми викнуємо над кожним елементом вихідного списку, та сама, що і в попередньому завданні, але інший спосіб отримання результату."
      ],
      "metadata": {
        "id": "aHmdOLkZ7eQ2"
      }
    },
    {
      "cell_type": "code",
      "source": [
        "numbers_squared_lh = [i*2 for i in numbers]"
      ],
      "metadata": {
        "id": "fsKlUM9x7T7n"
      },
      "execution_count": null,
      "outputs": []
    },
    {
      "cell_type": "code",
      "source": [
        "numbers_squared_lh"
      ],
      "metadata": {
        "colab": {
          "base_uri": "https://localhost:8080/"
        },
        "id": "nzlpvWX53ZcN",
        "outputId": "400e5020-6882-494d-de06-f76cd48c64a5"
      },
      "execution_count": null,
      "outputs": [
        {
          "output_type": "execute_result",
          "data": {
            "text/plain": [
              "[84, 102, 58, 4, 26, 88, 160, 132, 32]"
            ]
          },
          "metadata": {},
          "execution_count": 9
        }
      ]
    },
    {
      "cell_type": "markdown",
      "source": [
        "3. У нас вже є знайдене середнє значення за списком - воно визначене в змінній `numbers_mean`.\n",
        "\n",
        "  Використовуючи цикл, створіть новий список `numbers_gt_mean`, який порівнює кожен елемент з цим середнім значенням за списком за наступним правилом: \"якщо цей елемент спиcку `numbers` є більшим за `numbers_mean`, то запишемо 1, інакше 0\". Виведіть новий список на екран."
      ],
      "metadata": {
        "id": "tKpPGIQN7fc5"
      }
    },
    {
      "cell_type": "code",
      "source": [
        "numbers_mean = 38.11"
      ],
      "metadata": {
        "id": "FKGz-HqgwAdX"
      },
      "execution_count": null,
      "outputs": []
    },
    {
      "cell_type": "code",
      "source": [
        "numbers_gt_mean = []\n",
        "for i in numbers:\n",
        "    if i > numbers_mean:\n",
        "        numbers_gt_mean.append(1)\n",
        "    else:\n",
        "        numbers_gt_mean.append(0)\n",
        "\n",
        "print(numbers_gt_mean)"
      ],
      "metadata": {
        "id": "obelsT8N72Lp",
        "colab": {
          "base_uri": "https://localhost:8080/"
        },
        "outputId": "0ab819e3-6344-4f68-f2f7-14b7568def5f"
      },
      "execution_count": null,
      "outputs": [
        {
          "output_type": "stream",
          "name": "stdout",
          "text": [
            "[1, 1, 0, 0, 0, 1, 1, 1, 0]\n"
          ]
        }
      ]
    },
    {
      "cell_type": "markdown",
      "source": [
        "Очікуваний результат: `[1, 1, 0, 0, 0, 1, 1, 1, 0]`"
      ],
      "metadata": {
        "id": "kRUDVSRs720X"
      }
    },
    {
      "cell_type": "markdown",
      "source": [
        "4. Отримайте список за тим самим правилом, що в завданні 3, тільки тепер з list comprehension. Результат запишіть у змінну `numbers_gt_mean_lc`"
      ],
      "metadata": {
        "id": "dudK-NlE76z8"
      }
    },
    {
      "cell_type": "code",
      "source": [
        "numbers_gt_mean_lc = [1 if i > numbers_mean else 0 for i in numbers]\n",
        "\n",
        "print(numbers_gt_mean_lc)"
      ],
      "metadata": {
        "id": "kpnfXkUu76Ao",
        "colab": {
          "base_uri": "https://localhost:8080/"
        },
        "outputId": "ca255685-025b-437a-8dbb-29f5d5efaf5a"
      },
      "execution_count": null,
      "outputs": [
        {
          "output_type": "stream",
          "name": "stdout",
          "text": [
            "[1, 1, 0, 0, 0, 1, 1, 1, 0]\n"
          ]
        }
      ]
    },
    {
      "cell_type": "markdown",
      "source": [
        "5. Заданий список `long`. З допомогою циклу створіть словник `n_repeats`, який містить інформацію \"скільки разів повторюється кожен унікальний елемент списку `long`\".\n",
        "Наприклад:\n",
        "```\n",
        "long = [1, 1, 2, 2, 3]\n",
        "# тоді `n_repeats` містить {1: 2, 2: 2, 3: 1}\n",
        "```\n",
        "\n",
        "Аби для кожного унікального елементу знайти, скільки разів він повторюється, виористайте метод списку `list.count(<елемент>)`.\n",
        "Виведіть `n_repeats` на екран.\n",
        "\n",
        "**Підказки**:\n",
        "1. Для початку може бути зручно отримати набір унікальних елементів списку.\n",
        "2. Порядок ключів в словнику не має значення! Тобто ключі в словнику не обовʼязково мають бути в тому ж порядку, як наведено в прикладі результату. Але кількості зустрічань для кожного елемента мають співпадати з наведеними."
      ],
      "metadata": {
        "id": "muQmE3Mz8KDx"
      }
    },
    {
      "cell_type": "code",
      "source": [
        "long = [75, 39, 95, 1, 91, 43, 97, 24, 86, 75, 92, 91, 15, 15, 75, 95, 54, 29, 55, 98]"
      ],
      "metadata": {
        "id": "T_MDOYpa8Khu"
      },
      "execution_count": null,
      "outputs": []
    },
    {
      "cell_type": "code",
      "source": [
        "n_repeats = {}"
      ],
      "metadata": {
        "id": "FCUf8p3y8RG0"
      },
      "execution_count": 27,
      "outputs": []
    },
    {
      "cell_type": "code",
      "source": [
        "unique_elements = set(long)"
      ],
      "metadata": {
        "id": "yIvaY9ykTdgS"
      },
      "execution_count": 28,
      "outputs": []
    },
    {
      "cell_type": "code",
      "source": [
        "for element in unique_elements:\n",
        "    n_repeats[element] = long.count(element)\n"
      ],
      "metadata": {
        "id": "x_Pha7G9NZiw"
      },
      "execution_count": 29,
      "outputs": []
    },
    {
      "cell_type": "code",
      "source": [
        "print(n_repeats)"
      ],
      "metadata": {
        "colab": {
          "base_uri": "https://localhost:8080/"
        },
        "id": "TN8z-CUiTi2j",
        "outputId": "a0c41bd9-bec3-4df4-9377-6a5397a06a16"
      },
      "execution_count": 32,
      "outputs": [
        {
          "output_type": "stream",
          "name": "stdout",
          "text": [
            "{1: 1, 97: 1, 98: 1, 39: 1, 75: 3, 43: 1, 15: 2, 55: 1, 86: 1, 54: 1, 24: 1, 91: 2, 92: 1, 29: 1, 95: 2}\n"
          ]
        }
      ]
    },
    {
      "cell_type": "markdown",
      "source": [
        "Очікуваний результат:\n",
        "```\n",
        "{1: 1, 97: 1, 98: 1, 39: 1, 75: 3, 43: 1, 15: 2, 55: 1, 86: 1, 54: 1, 24: 1, 91: 2, 92: 1, 29: 1, 95: 2}\n",
        "\n",
        "```"
      ],
      "metadata": {
        "id": "WQbGyWde8RkT"
      }
    },
    {
      "cell_type": "markdown",
      "source": [
        "6. Виконайте ту саму операцію, що і в попередньому заваднні, але використовуючи `dict comprehension`. Результат запишіть у змінну `n_repeats_dh` та результат виведіть на екран."
      ],
      "metadata": {
        "id": "W-nelSSP8VeG"
      }
    },
    {
      "cell_type": "code",
      "source": [
        "n_repeats_dh = {element: long.count(element) for element in set(long)}"
      ],
      "metadata": {
        "id": "gDz_kE0N8YM4"
      },
      "execution_count": 38,
      "outputs": []
    },
    {
      "cell_type": "code",
      "source": [
        "print(n_repeats_dh)"
      ],
      "metadata": {
        "colab": {
          "base_uri": "https://localhost:8080/"
        },
        "id": "vZf-S4RQUjeU",
        "outputId": "4330528b-5c87-4244-b5a0-88a944bafba3"
      },
      "execution_count": 39,
      "outputs": [
        {
          "output_type": "stream",
          "name": "stdout",
          "text": [
            "{1: 1, 97: 1, 98: 1, 39: 1, 75: 3, 43: 1, 15: 2, 55: 1, 86: 1, 54: 1, 24: 1, 91: 2, 92: 1, 29: 1, 95: 2}\n"
          ]
        }
      ]
    },
    {
      "cell_type": "markdown",
      "source": [
        "7. Знайдіть три найменші **унікальні** елементи в списку `long` та виведіть їх на екран."
      ],
      "metadata": {
        "id": "Th5wKghw8aYj"
      }
    },
    {
      "cell_type": "code",
      "source": [
        "unique_elements_dict = {element: long.count(element) for element in set(long)}\n"
      ],
      "metadata": {
        "id": "NG9PvlnK8a2Q"
      },
      "execution_count": 41,
      "outputs": []
    },
    {
      "cell_type": "code",
      "source": [
        "three_smallest = sorted(unique_elements_dict.keys())[:3]"
      ],
      "metadata": {
        "id": "kea4TBK3XXnT"
      },
      "execution_count": 42,
      "outputs": []
    },
    {
      "cell_type": "code",
      "source": [
        "print(three_smallest)"
      ],
      "metadata": {
        "colab": {
          "base_uri": "https://localhost:8080/"
        },
        "id": "-RyyWBwlXZQE",
        "outputId": "538338b7-850a-4abe-c2ce-6e82f3e1eeaf"
      },
      "execution_count": 43,
      "outputs": [
        {
          "output_type": "stream",
          "name": "stdout",
          "text": [
            "[1, 15, 24]\n"
          ]
        }
      ]
    },
    {
      "cell_type": "code",
      "source": [],
      "metadata": {
        "id": "UnjqTuqGXazy"
      },
      "execution_count": null,
      "outputs": []
    },
    {
      "cell_type": "markdown",
      "source": [
        "Очікувана відповідь: [1, 15, 24]"
      ],
      "metadata": {
        "id": "XOW0GDBK8cn7"
      }
    }
  ]
}